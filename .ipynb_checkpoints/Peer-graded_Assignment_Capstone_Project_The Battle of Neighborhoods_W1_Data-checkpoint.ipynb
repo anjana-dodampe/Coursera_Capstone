{
 "cells": [
  {
   "cell_type": "markdown",
   "metadata": {},
   "source": [
    "<h2>2. Data acquisition and cleaning</h2>\n",
    "\n",
    "<br>\n",
    "<br>\n",
    "<br>\n",
    "\n",
    "<h3>2.1 Data sources </h3>\n",
    "<br>\n",
    "<br>\n",
    "\n",
    " The Wikipedia page https://en.wikipedia.org/wiki/Districts_of_Sri_Lanka is the main source of data that is being used to obtain all the districts of Sri Lanka. I have used BeautifulSoup library to scrape required data from the above link. Then I’ve extracted the required tables from the above page and converted it into a pandas data frame.\n",
    "\n",
    "<h3>2.2 Data cleaning</h3>\n",
    "<br>\n",
    "<br>\n",
    "\n",
    " Data scraped from multiple sources were combined into one table. I ran a code to find whether there are NaN values in the dataset. As well as there were many unwanted columns in the data frame that I initially made after scraping data from the Website. So I dropped unwanted columns and renamed columns for ease and created a new data frame. With the help of geopy library, I could get the latitude and longitude details related to particular district and merged it with the data frame I created lately. The final data set after cleaning consists of single data frame with 6 columns containing Province, latitudes & longitudes of a particular district. Other columns like Population, Population density which also been scraped from the website which can be used for further analysis. \n",
    "\n"
   ]
  },
  {
   "cell_type": "code",
   "execution_count": null,
   "metadata": {},
   "outputs": [],
   "source": []
  }
 ],
 "metadata": {
  "kernelspec": {
   "display_name": "Python 3",
   "language": "python",
   "name": "python3"
  },
  "language_info": {
   "codemirror_mode": {
    "name": "ipython",
    "version": 3
   },
   "file_extension": ".py",
   "mimetype": "text/x-python",
   "name": "python",
   "nbconvert_exporter": "python",
   "pygments_lexer": "ipython3",
   "version": "3.8.3"
  }
 },
 "nbformat": 4,
 "nbformat_minor": 4
}
