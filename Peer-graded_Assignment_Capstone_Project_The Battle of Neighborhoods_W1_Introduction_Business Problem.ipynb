{
 "cells": [
  {
   "cell_type": "markdown",
   "metadata": {},
   "source": [
    "<h3>Peer-graded_Assignment_Capstone_Project_The Battle of Neighborhoods_W1_Introduction_Business Problem</h3>"
   ]
  },
  {
   "cell_type": "markdown",
   "metadata": {},
   "source": [
    "<h3>1.\tIntroduction </h3>\n",
    "\n",
    "<b>1.1 Background </b>\n",
    "<br>\n",
    "<br>\n",
    "                   Tourism, the act and process of spending time away from home in pursuit of recreation, relaxation, and pleasure has been a trending sector across the globe. Human as a social animal, always fonds of travelling, exploring new adventures. No matter which country you’re from, you can always come across a group of people who always like travelling places. Tourism plays a significant role in developing economy of a country and it brings a particular country to a prominent place in global standing. \n",
    "\n",
    "\n"
   ]
  },
  {
   "cell_type": "markdown",
   "metadata": {},
   "source": [
    "Tourism industry is important in many aspects since it creates demand and growth for many more industries. It plays an important role in generating more employments, revenues and contributing in empowering livelihood of many locals. Sri Lanka, the pearl of the Indian Ocean is a country that is immensely benefited from tourism industry.    \n",
    "\n",
    "<b>1.2 Problem</b>\n",
    "<br>\n",
    "<br>\n",
    "All the benefits of tourism tend to reflect on the employment opportunities that it provides to the people of that country. The objective of this project is to analyse tourist places across districts of Sri Lanka and try to recommend the best location where they can open a business to make the best use of the opportunity. \n",
    "          The target audience for this project includes the people who are interested in opening a business that associates with tourism industry. This also recommends tourists, tourist attraction hotspots in a particular district in Sri Lanka."
   ]
  },
  {
   "cell_type": "markdown",
   "metadata": {},
   "source": []
  },
  {
   "cell_type": "code",
   "execution_count": null,
   "metadata": {},
   "outputs": [],
   "source": []
  }
 ],
 "metadata": {
  "kernelspec": {
   "display_name": "Python 3",
   "language": "python",
   "name": "python3"
  },
  "language_info": {
   "codemirror_mode": {
    "name": "ipython",
    "version": 3
   },
   "file_extension": ".py",
   "mimetype": "text/x-python",
   "name": "python",
   "nbconvert_exporter": "python",
   "pygments_lexer": "ipython3",
   "version": "3.8.3"
  }
 },
 "nbformat": 4,
 "nbformat_minor": 4
}
